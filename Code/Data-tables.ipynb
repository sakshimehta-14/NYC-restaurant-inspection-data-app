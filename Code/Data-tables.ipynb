{
 "cells": [
  {
   "attachments": {},
   "cell_type": "markdown",
   "metadata": {},
   "source": [
    "#### Import required packages in the notebook"
   ]
  },
  {
   "cell_type": "code",
   "execution_count": null,
   "metadata": {},
   "outputs": [],
   "source": [
    "#!pip3 install psycopg2-binary"
   ]
  },
  {
   "cell_type": "code",
   "execution_count": 1,
   "metadata": {},
   "outputs": [],
   "source": [
    "import psycopg2"
   ]
  },
  {
   "cell_type": "markdown",
   "metadata": {},
   "source": [
    "#### Creating the required postgresql tables and inserting data into the reference tables"
   ]
  },
  {
   "cell_type": "code",
   "execution_count": 2,
   "metadata": {},
   "outputs": [
    {
     "name": "stdout",
     "output_type": "stream",
     "text": [
      "Connecting to the PostgreSQL database...\n"
     ]
    }
   ],
   "source": [
    "print('Connecting to the PostgreSQL database...')\n",
    "conn = psycopg2.connect(\n",
    "    host=\"localhost\",\n",
    "    port='5432',\n",
    "    dbname=\"postgres_db\",\n",
    "    user=\"postgres\",\n",
    "    password=\"123\")\n",
    "\n",
    "\n",
    "cur = conn.cursor()"
   ]
  },
  {
   "cell_type": "markdown",
   "metadata": {},
   "source": [
    "#### Creating the required tables along with the relevant constraints"
   ]
  },
  {
   "cell_type": "code",
   "execution_count": 3,
   "metadata": {},
   "outputs": [],
   "source": [
    "createCmd_raw = \"\"\" \n",
    "                  CREATE TABLE IF NOT EXISTS restaurant_inspection_raw (\n",
    "                        camis integer NOT NULL,\n",
    "                        dba VARCHAR(1000),\n",
    "                        boro VARCHAR(1000),\n",
    "                        building VARCHAR(1000),\n",
    "                        street VARCHAR(1000),\n",
    "                        zipcode integer,\n",
    "                        phone integer,\n",
    "                        cuisine_description VARCHAR(1000),\n",
    "                        inspection_date TIMESTAMP,\n",
    "                        action VARCHAR(1000),\n",
    "                        violation_code VARCHAR(1000),\n",
    "                        violation_description VARCHAR(1000),\n",
    "                        critical_flag VARCHAR(1000),\n",
    "                        score INTEGER,\n",
    "                        grade VARCHAR(5),\n",
    "                        grade_date timestamp,\n",
    "                        record_date timestamp NOT NULL,\n",
    "                        inspection_type VARCHAR(1000),\n",
    "                        latitude numeric(18,14),\n",
    "                        longitude numeric(18,14),\n",
    "                        community_board VARCHAR(1000),\n",
    "                        council_district VARCHAR(1000),\n",
    "                        census_tract VARCHAR(1000),\n",
    "                        bin VARCHAR(1000),\n",
    "                        bbl VARCHAR(1000),\n",
    "                        nta VARCHAR(1000)\t\n",
    "                );\n",
    "                  \"\"\"\n",
    "    \n",
    "cur.execute(createCmd_raw)\n",
    "\n",
    "createCmd_boro = \"\"\" \n",
    "                    CREATE TABLE IF NOT EXISTS borough (\n",
    "                            boro integer PRIMARY KEY,\n",
    "                            name VARCHAR(1000)\n",
    "                    );\n",
    "                \"\"\"\n",
    "    \n",
    "cur.execute(createCmd_boro)\n",
    "    \n",
    "createCmd_restaurants = \"\"\" \n",
    "                        CREATE TABLE IF NOT EXISTS restaurants (\n",
    "                                camis integer PRIMARY KEY,\n",
    "                                dba VARCHAR(1000),\n",
    "                                boro integer not null,\n",
    "                                building VARCHAR(1000),\n",
    "                                street VARCHAR(1000),\n",
    "                                zipcode integer,\n",
    "                                phone integer,\n",
    "                                cuisine_description VARCHAR(1000),\n",
    "                                latitude numeric(18,14),\n",
    "                                longitude numeric(18,14)\n",
    "                        );\n",
    "\n",
    "                    \"\"\"\n",
    "    \n",
    "cur.execute(createCmd_restaurants)\n",
    "\n",
    "createCmd_grade = \"\"\" \n",
    "                  CREATE TABLE IF NOT EXISTS grade (\n",
    "                            grade  VARCHAR(5) PRIMARY KEY,\n",
    "                            description VARCHAR(1000)\n",
    "                  );\n",
    "                \"\"\"\n",
    "    \n",
    "cur.execute(createCmd_grade)\n",
    "\n",
    "createCmd_inspection_data = \"\"\" \n",
    "                  CREATE TABLE IF NOT EXISTS inspection_data (\n",
    "                            camis integer NOT NULL,\n",
    "                            inspection_date TIMESTAMP NOT NULL,\n",
    "                            inspection_type VARCHAR(1000),\n",
    "                            action VARCHAR(1000),\n",
    "                            violation_code VARCHAR(1000),\n",
    "                            violation_description VARCHAR(1000),\n",
    "                            critical_flag VARCHAR(1000),\n",
    "                            score INTEGER,\n",
    "                            grade VARCHAR(5),\n",
    "                            grade_date timestamp,\n",
    "                            community_board VARCHAR(1000),\n",
    "                            council_district VARCHAR(1000),\n",
    "                            census_tract VARCHAR(1000),\n",
    "                            bin VARCHAR(1000),\n",
    "                            bbl VARCHAR(1000),\n",
    "                            nta VARCHAR(1000),\n",
    "                            record_date timestamp NOT NULL,\n",
    "                            CONSTRAINT insp_unique UNIQUE (camis, inspection_date,critical_flag,violation_code,record_date),\n",
    "                            CONSTRAINT fk_camis FOREIGN KEY(camis) REFERENCES restaurants(camis)\n",
    "\n",
    "                    );\n",
    "                \"\"\"\n",
    "    \n",
    "cur.execute(createCmd_inspection_data)\n",
    "    \n",
    "\n",
    "conn.commit()\n"
   ]
  },
  {
   "attachments": {},
   "cell_type": "markdown",
   "metadata": {},
   "source": [
    "#### Inserting Data into relevant reference tables"
   ]
  },
  {
   "cell_type": "code",
   "execution_count": 4,
   "metadata": {},
   "outputs": [],
   "source": [
    "# Inserting new information into the borough table\n",
    "\n",
    "cur.execute(\"\"\"\n",
    "              INSERT INTO borough (boro, name)\n",
    "                VALUES \n",
    "                  (1, 'MANHATTAN'),\n",
    "                  (2, 'BRONX'),\n",
    "                  (3, 'BROOKLYN'),\n",
    "                  (4, 'QUEENS'),\n",
    "                  (5, 'STATEN ISLAND');\n",
    "            \"\"\"\n",
    "          )\n",
    "\n",
    "conn.commit()\n",
    "\n",
    "# Inserting new information into the grade table\n",
    "\n",
    "cur.execute(\"\"\"\n",
    "              INSERT INTO grade (grade, description)\n",
    "                VALUES \n",
    "                  ('A', 'Grade A'),\n",
    "                  ('B', 'Grade B'),\n",
    "                  ('C', 'Grade C'),\n",
    "                  ('Z', 'Grade Pending'),\n",
    "                  ('P', 'Grade Pending issued on re-opening following an initial inspection that resulted in a closure'),\n",
    "                  ('N', 'Not Yet Graded');\n",
    "\n",
    "            \"\"\"\n",
    "          )\n",
    "\n",
    "conn.commit()"
   ]
  },
  {
   "attachments": {},
   "cell_type": "markdown",
   "metadata": {},
   "source": [
    "#### Retrieving all results from the reference tables"
   ]
  },
  {
   "cell_type": "code",
   "execution_count": 5,
   "metadata": {},
   "outputs": [
    {
     "name": "stdout",
     "output_type": "stream",
     "text": [
      "The number of rows in the borough table:  5\n",
      "boro : 1 , name : MANHATTAN\n",
      "boro : 2 , name : BRONX\n",
      "boro : 3 , name : BROOKLYN\n",
      "boro : 4 , name : QUEENS\n",
      "boro : 5 , name : STATEN ISLAND\n",
      "\n",
      "\n",
      "The number of rows in the grade table:  6\n",
      "grade : A , description : Grade A\n",
      "grade : B , description : Grade B\n",
      "grade : C , description : Grade C\n",
      "grade : Z , description : Grade Pending\n",
      "grade : P , description : Grade Pending issued on re-opening following an initial inspection that resulted in a closure\n",
      "grade : N , description : Not Yet Graded\n"
     ]
    }
   ],
   "source": [
    "queryBoro = 'SELECT * from borough'    \n",
    "cur.execute(queryBoro)    \n",
    "print(\"The number of rows in the borough table: \", cur.rowcount)\n",
    "\n",
    "row = cur.fetchone()\n",
    "while row is not None:\n",
    "    print(\"boro :\", row[0], \", name :\", row[1])\n",
    "    row = cur.fetchone()   \n",
    "\n",
    "queryGrade = 'SELECT * from grade'    \n",
    "cur.execute(queryGrade)    \n",
    "print(\"\\n\\nThe number of rows in the grade table: \", cur.rowcount)\n",
    "\n",
    "row = cur.fetchone()\n",
    "while row is not None:\n",
    "    print(\"grade :\", row[0], \", description :\", row[1])\n",
    "    row = cur.fetchone()   \n",
    "\n"
   ]
  },
  {
   "cell_type": "code",
   "execution_count": 6,
   "metadata": {},
   "outputs": [],
   "source": [
    "conn.close()"
   ]
  },
  {
   "cell_type": "code",
   "execution_count": null,
   "metadata": {},
   "outputs": [],
   "source": []
  }
 ],
 "metadata": {
  "kernelspec": {
   "display_name": ".venv",
   "language": "python",
   "name": "python3"
  },
  "language_info": {
   "codemirror_mode": {
    "name": "ipython",
    "version": 3
   },
   "file_extension": ".py",
   "mimetype": "text/x-python",
   "name": "python",
   "nbconvert_exporter": "python",
   "pygments_lexer": "ipython3",
   "version": "3.10.11"
  },
  "orig_nbformat": 4
 },
 "nbformat": 4,
 "nbformat_minor": 2
}
