{
 "cells": [
  {
   "attachments": {},
   "cell_type": "markdown",
   "metadata": {},
   "source": [
    "#### Importing the required packages for the API"
   ]
  },
  {
   "cell_type": "code",
   "execution_count": null,
   "metadata": {},
   "outputs": [],
   "source": [
    "import os\n",
    "\n",
    "os.system('source /Users/sakshimehta/Documents/Coursework/Assignments/Managing_Data/Assignments/Final_Project/.venv/bin/activate')\n",
    "os.system('export SPARK_CLASSPATH=/Users/sakshimehta/Documents/Installations/spark/jars/postgresql-42.6.0.jar')\n",
    "os.system('pip3 install sodapy')\n",
    "os.system('pip3 install pyspark')\n",
    "os.system('pip3 install pyspark psycopg2-binary')\n",
    "\n",
    "from flask import Flask\n",
    "\n",
    "# Kick-off the spark job inside the Flask API\n",
    "\n",
    "app = Flask(__name__)\n",
    "\n",
    "@app.route('/load')\n",
    "def index():\n",
    "    \n",
    "    os.system('/Users/sakshimehta/Documents/Installations/spark/bin/spark-submit /Users/sakshimehta/Documents/Coursework/Assignments/Managing_Data/Assignments/Final_Project/final.py >> /Users/sakshimehta/Documents/Coursework/Assignments/Managing_Data/Assignments/Final_Project/logs/log_`date \"+%Y-%m-%d\"`.log 2>&1')\n",
    "    return 'PySpark job started!'\n",
    "\n",
    "\n",
    "if __name__ == '__main__':\n",
    "    app.run(port=5001, debug=True)\n",
    "\n"
   ]
  },
  {
   "cell_type": "code",
   "execution_count": null,
   "metadata": {},
   "outputs": [],
   "source": []
  }
 ],
 "metadata": {
  "kernelspec": {
   "display_name": ".venv",
   "language": "python",
   "name": "python3"
  },
  "language_info": {
   "codemirror_mode": {
    "name": "ipython",
    "version": 3
   },
   "file_extension": ".py",
   "mimetype": "text/x-python",
   "name": "python",
   "nbconvert_exporter": "python",
   "pygments_lexer": "ipython3",
   "version": "3.10.11"
  },
  "orig_nbformat": 4
 },
 "nbformat": 4,
 "nbformat_minor": 2
}
