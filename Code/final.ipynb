{
 "cells": [
  {
   "attachments": {},
   "cell_type": "markdown",
   "metadata": {},
   "source": [
    "#### Installing required packages"
   ]
  },
  {
   "cell_type": "code",
   "execution_count": 1,
   "metadata": {},
   "outputs": [],
   "source": [
    "\n",
    "#!pip3 install sodapy\n",
    "#!pip3 install pyspark\n",
    "#!pip3 install pyspark psycopg2-binary"
   ]
  },
  {
   "attachments": {},
   "cell_type": "markdown",
   "metadata": {},
   "source": [
    "#### Import required packages in the notebook"
   ]
  },
  {
   "cell_type": "code",
   "execution_count": 2,
   "metadata": {},
   "outputs": [],
   "source": [
    "from pyspark.conf import SparkConf\n",
    "from pyspark import SparkContext\n",
    "from pyspark.sql import SQLContext,SparkSession\n",
    "\n",
    "import pyspark.sql.functions as f\n",
    "from pyspark.sql.types  import IntegerType, DecimalType\n",
    "\n",
    "from sodapy import Socrata\n",
    "import os\n"
   ]
  },
  {
   "cell_type": "code",
   "execution_count": 3,
   "metadata": {},
   "outputs": [],
   "source": [
    "!export SPARK_CLASSPATH=/Users/sakshimehta/Documents/Installations/spark/jars/postgresql-42.6.0.jar"
   ]
  },
  {
   "attachments": {},
   "cell_type": "markdown",
   "metadata": {},
   "source": [
    "#### Setting the Spark app "
   ]
  },
  {
   "cell_type": "code",
   "execution_count": 4,
   "metadata": {},
   "outputs": [
    {
     "name": "stdout",
     "output_type": "stream",
     "text": [
      "\n",
      " Job Begins\n"
     ]
    },
    {
     "name": "stderr",
     "output_type": "stream",
     "text": [
      "Setting default log level to \"WARN\".\n",
      "To adjust logging level use sc.setLogLevel(newLevel). For SparkR, use setLogLevel(newLevel).\n",
      "23/04/28 00:40:09 WARN NativeCodeLoader: Unable to load native-hadoop library for your platform... using builtin-java classes where applicable\n",
      "/Users/sakshimehta/Documents/Installations/spark/python/pyspark/sql/context.py:112: FutureWarning: Deprecated in 3.0.0. Use SparkSession.builder.getOrCreate() instead.\n",
      "  warnings.warn(\n",
      "23/04/28 00:40:14 WARN SparkSession: Using an existing Spark session; only runtime SQL configurations will take effect.\n"
     ]
    }
   ],
   "source": [
    "os.environ['SPARK_CLASSPATH'] = \"/Users/sakshimehta/Documents/Installations/spark/jars/postgresql-42.6.0.jar\"\n",
    "\n",
    "print('\\n Job Begins')\n",
    "\n",
    "sc = SparkContext().getOrCreate()\n",
    "config = sc.getConf()\n",
    "config.set('spark.cores.max','4')\n",
    "config.set('spark.executor.memory', '8G')\n",
    "config.set('spark.driver.maxResultSize', '8g')\n",
    "config.set('spark.kryoserializer.buffer.max', '512m')\n",
    "config.set(\"spark.driver.cores\", \"4\")\n",
    "\n",
    "sc.stop()\n",
    "\n",
    "sc = SparkContext(conf = config) \n",
    "sqlContext = SQLContext(sc)\n",
    "\n",
    "spark = SparkSession.builder \\\n",
    "                    .appName('ETL-Pipeline') \\\n",
    "                    .config(\"spark.jars\", \"/Users/sakshimehta/Documents/Installations/spark/jars/postgresql-42.6.0.jar\") \\\n",
    "                    .getOrCreate()\n",
    "\n"
   ]
  },
  {
   "attachments": {},
   "cell_type": "markdown",
   "metadata": {},
   "source": [
    "#### Extract the Restaurant violations data from the NYC Open Data API using sodapy"
   ]
  },
  {
   "cell_type": "code",
   "execution_count": 5,
   "metadata": {},
   "outputs": [
    {
     "name": "stderr",
     "output_type": "stream",
     "text": [
      "WARNING:root:Requests made without an app_token will be subject to strict throttling limits.\n"
     ]
    },
    {
     "name": "stdout",
     "output_type": "stream",
     "text": [
      "\n",
      " The count of the raw Restaurant Inspection dataset is: 202109\n",
      "\n",
      " Total results retrieved are: 202109\n",
      "\n",
      " Printing first two results:\n",
      "\n",
      "[{'camis': '50122300', 'dba': 'JACK DIAMONDS', 'boro': 'Manhattan', 'building': '140', 'street': 'EAST   27 STREET', 'zipcode': '10016', 'phone': '6463988157', 'inspection_date': '1900-01-01T00:00:00.000', 'critical_flag': 'Not Applicable', 'record_date': '2023-04-27T06:00:14.000', 'latitude': '40.741848594155', 'longitude': '-73.982533732212', 'community_board': '106', 'council_district': '02', 'census_tract': '006800', 'bin': '1018150', 'bbl': '1008820059', 'nta': 'MN21'}, {'camis': '50123470', 'dba': 'Lydig Pizza Pizza Inc', 'boro': 'Manhattan', 'building': '84', 'street': 'HESTER STREET', 'zipcode': '10002', 'phone': '6466435434', 'inspection_date': '1900-01-01T00:00:00.000', 'critical_flag': 'Not Applicable', 'record_date': '2023-04-27T06:00:14.000', 'latitude': '40.716306876678', 'longitude': '-73.99230192632', 'community_board': '103', 'council_district': '01', 'census_tract': '001600', 'bin': '1003886', 'bbl': '1003000018', 'nta': 'MN27'}]\n",
      "\n",
      " NYC open data API data extract completed\n"
     ]
    }
   ],
   "source": [
    "# The Host Name for the API endpoint (the https:// part will be added automatically)\n",
    "data_url='data.cityofnewyork.us'    \n",
    "\n",
    "# The data set at the API endpoint (311 data in this case)\n",
    "data_set='43nn-pn8j'                \n",
    "\n",
    "# Create the client to point to the API endpoint\n",
    "client = Socrata(data_url, None)\n",
    "\n",
    "# The results are returned as JSON from API / converted to Python list of dictionaries by sodapy.\n",
    "result = client.get(\"43nn-pn8j\", select=\"COUNT(*)\")\n",
    "\n",
    "print(\"\\n The count of the raw Restaurant Inspection dataset is:\", result[0]['COUNT'])\n",
    "\n",
    "# Using pagination to retrieve the whole raw dataset for the NYC Open Data API to load it into a dataframe\n",
    "start = 0             \n",
    "chunk_size = 10000     \n",
    "\n",
    "results = []           \n",
    "\n",
    "while True:\n",
    "     \n",
    "     results.extend( client.get(data_set, offset = start, limit = chunk_size))\n",
    "     start = start + chunk_size\n",
    "     if (start > int(result[0]['COUNT']) ):\n",
    "        break\n",
    "\n",
    "print(\"\\n Total results retrieved are:\", len(results))\n",
    "print(\"\\n Printing first two results:\\n\")\n",
    "print(results[:2])\n",
    "\n",
    "print(\"\\n NYC open data API data extract completed\")\n",
    "\n"
   ]
  },
  {
   "attachments": {},
   "cell_type": "markdown",
   "metadata": {},
   "source": [
    "#### Reading results (list of dictionaries) into Pyspark dataframe"
   ]
  },
  {
   "cell_type": "code",
   "execution_count": 6,
   "metadata": {},
   "outputs": [
    {
     "name": "stderr",
     "output_type": "stream",
     "text": [
      "23/04/28 00:41:04 WARN package: Truncated the string representation of a plan since it was too large. This behavior can be adjusted by setting 'spark.sql.debug.maxToStringFields'.\n"
     ]
    },
    {
     "name": "stdout",
     "output_type": "stream",
     "text": [
      "\n",
      " Count of total rows in the Spark dataframe:\n",
      "\n"
     ]
    },
    {
     "name": "stderr",
     "output_type": "stream",
     "text": [
      "23/04/28 00:41:06 WARN TaskSetManager: Stage 0 contains a task of very large size (12101 KiB). The maximum recommended task size is 1000 KiB.\n",
      "                                                                                \r"
     ]
    },
    {
     "name": "stdout",
     "output_type": "stream",
     "text": [
      "\n",
      " Printing the first few rows of the dataDF dataframe:\n",
      "\n"
     ]
    },
    {
     "name": "stderr",
     "output_type": "stream",
     "text": [
      "23/04/28 00:41:14 WARN TaskSetManager: Stage 3 contains a task of very large size (12101 KiB). The maximum recommended task size is 1000 KiB.\n"
     ]
    },
    {
     "name": "stdout",
     "output_type": "stream",
     "text": [
      "+----------+-------+---------+--------+--------+------------+---------------+----------------+--------------+------------------------+-----------------------+---------------+----------------+----+----------+-----------------------+----------------+-------+------+-------------------+-----+----------+---------------+-----+--------------+---------------------+\n",
      "|bbl       |bin    |boro     |building|camis   |census_tract|community_board|council_district|critical_flag |dba                     |inspection_date        |latitude       |longitude       |nta |phone     |record_date            |street          |zipcode|action|cuisine_description|grade|grade_date|inspection_type|score|violation_code|violation_description|\n",
      "+----------+-------+---------+--------+--------+------------+---------------+----------------+--------------+------------------------+-----------------------+---------------+----------------+----+----------+-----------------------+----------------+-------+------+-------------------+-----+----------+---------------+-----+--------------+---------------------+\n",
      "|1008820059|1018150|Manhattan|140     |50122300|006800      |106            |02              |Not Applicable|JACK DIAMONDS           |1900-01-01T00:00:00.000|40.741848594155|-73.982533732212|MN21|6463988157|2023-04-27T06:00:14.000|EAST   27 STREET|10016  |null  |null               |null |null      |null           |null |null          |null                 |\n",
      "|1003000018|1003886|Manhattan|84      |50123470|001600      |103            |01              |Not Applicable|Lydig Pizza Pizza Inc   |1900-01-01T00:00:00.000|40.716306876678|-73.99230192632 |MN27|6466435434|2023-04-27T06:00:14.000|HESTER STREET   |10002  |null  |null               |null |null      |null           |null |null          |null                 |\n",
      "|1004490033|1006336|Manhattan|125     |50118614|003800      |103            |02              |Not Applicable|NUDIBRANCH              |1900-01-01T00:00:00.000|40.727334691177|-73.985485241246|MN22|5165212887|2023-04-27T06:00:14.000|1 AVENUE        |10003  |null  |null               |null |null      |null           |null |null          |null                 |\n",
      "|4         |null   |Queens   |13327   |50129407|086900      |407            |20              |Not Applicable|SOFT SWERVE             |1900-01-01T00:00:00.000|40.76053410229 |-73.833918945577|QN22|9178040292|2023-04-27T06:00:14.000|37th AVENUE     |11354  |null  |null               |null |null      |null           |null |null          |null                 |\n",
      "|1015620003|1050403|Manhattan|1582    |50119835|013600      |108            |05              |Not Applicable|LES GATEAUX DE MARIE    |1900-01-01T00:00:00.000|40.774474695288|-73.951110110591|MN32|9299881582|2023-04-27T06:00:14.000|1 AVENUE        |10028  |null  |null               |null |null      |null           |null |null          |null                 |\n",
      "|3019000057|3054773|Brooklyn |868     |50128354|123700      |303            |33              |Not Applicable|null                    |1900-01-01T00:00:00.000|40.695218962567|-73.956282043244|BK75|7184514700|2023-04-27T06:00:14.000|BEDFORD AVENUE  |11205  |null  |null               |null |null      |null           |null |null          |null                 |\n",
      "|3057350001|3141676|Brooklyn |6321    |50130808|012000      |310            |38              |Not Applicable|null                    |1900-01-01T00:00:00.000|40.633342931691|-74.011774090405|BK34|6462695524|2023-04-27T06:00:14.000|8 AVENUE        |11220  |null  |null               |null |null      |null           |null |null          |null                 |\n",
      "|2030900031|2012546|Bronx    |689     |50132976|038900      |206            |15              |Not Applicable|null                    |1900-01-01T00:00:00.000|40.854327094006|-73.885032983683|BX06|7185843333|2023-04-27T06:00:14.000|EAST  187 STREET|10458  |null  |null               |null |null      |null           |null |null          |null                 |\n",
      "|1         |null   |Manhattan|280     |50123675|002100      |101            |01              |Not Applicable|SHAKE SHACK NEW YORK LLC|1900-01-01T00:00:00.000|40.713819707646|-74.012369121799|MN24|6469910223|2023-04-27T06:00:14.000|WASHINGTON ST   |10007  |null  |null               |null |null      |null           |null |null          |null                 |\n",
      "|1010390063|1025165|Manhattan|712     |50112565|012700      |104            |03              |Not Applicable|ISTANBUL KEBAB HOUSE    |1900-01-01T00:00:00.000|40.762591605434|-73.989589160247|MN15|2125820777|2023-04-27T06:00:14.000|9 AVENUE        |10019  |null  |null               |null |null      |null           |null |null          |null                 |\n",
      "+----------+-------+---------+--------+--------+------------+---------------+----------------+--------------+------------------------+-----------------------+---------------+----------------+----+----------+-----------------------+----------------+-------+------+-------------------+-----+----------+---------------+-----+--------------+---------------------+\n",
      "only showing top 10 rows\n",
      "\n",
      "\n",
      " Printing the schema of the dataDF dataframe:\n",
      "\n",
      "root\n",
      " |-- bbl: string (nullable = true)\n",
      " |-- bin: string (nullable = true)\n",
      " |-- boro: string (nullable = true)\n",
      " |-- building: string (nullable = true)\n",
      " |-- camis: string (nullable = true)\n",
      " |-- census_tract: string (nullable = true)\n",
      " |-- community_board: string (nullable = true)\n",
      " |-- council_district: string (nullable = true)\n",
      " |-- critical_flag: string (nullable = true)\n",
      " |-- dba: string (nullable = true)\n",
      " |-- inspection_date: string (nullable = true)\n",
      " |-- latitude: string (nullable = true)\n",
      " |-- longitude: string (nullable = true)\n",
      " |-- nta: string (nullable = true)\n",
      " |-- phone: string (nullable = true)\n",
      " |-- record_date: string (nullable = true)\n",
      " |-- street: string (nullable = true)\n",
      " |-- zipcode: string (nullable = true)\n",
      " |-- action: string (nullable = true)\n",
      " |-- cuisine_description: string (nullable = true)\n",
      " |-- grade: string (nullable = true)\n",
      " |-- grade_date: string (nullable = true)\n",
      " |-- inspection_type: string (nullable = true)\n",
      " |-- score: string (nullable = true)\n",
      " |-- violation_code: string (nullable = true)\n",
      " |-- violation_description: string (nullable = true)\n",
      "\n",
      "\n",
      " Intial spark df create completed\n"
     ]
    }
   ],
   "source": [
    "dataDF = spark.createDataFrame(results)\n",
    "\n",
    "dataDF.cache()\n",
    "\n",
    "# display dataframe count\n",
    "print(\"\\n Count of total rows in the Spark dataframe:\\n\") \n",
    "dataDF.count()\n",
    "\n",
    "print(\"\\n Printing the first few rows of the dataDF dataframe:\\n\")\n",
    "dataDF.show(10, truncate = False)\n",
    "\n",
    "print(\"\\n Printing the schema of the dataDF dataframe:\\n\")\n",
    "dataDF.printSchema()\n",
    "\n",
    "print(\"\\n Intial spark df create completed\")\n"
   ]
  },
  {
   "attachments": {},
   "cell_type": "markdown",
   "metadata": {},
   "source": [
    "### Data Cleaning Process: "
   ]
  },
  {
   "attachments": {},
   "cell_type": "markdown",
   "metadata": {},
   "source": [
    "##### Step 1: Remove special characters from the phone number data"
   ]
  },
  {
   "cell_type": "code",
   "execution_count": 7,
   "metadata": {},
   "outputs": [],
   "source": [
    "dataDF = dataDF.withColumn('phone', f.regexp_replace('phone', ' ', '')) \\\n",
    "       .withColumn('phone', f.regexp_replace('phone', '_', '')) \\\n",
    "       .withColumn('phone', f.regexp_replace('phone', '.', '') ) \\\n",
    "       .withColumn('phone', f.regexp_replace('phone', '__', '') )"
   ]
  },
  {
   "attachments": {},
   "cell_type": "markdown",
   "metadata": {},
   "source": [
    "##### Step 2: Store the boro_id instead of the complete Borough name in the boro attribute in postgresql tables"
   ]
  },
  {
   "cell_type": "code",
   "execution_count": 8,
   "metadata": {},
   "outputs": [],
   "source": [
    "dataDF = dataDF.withColumn('boro_id', f.when(f.lower(dataDF.boro) == \"manhattan\", 1)\n",
    "                                      .when(f.lower(dataDF.boro) == \"bronx\", 2)\n",
    "                                      .when(f.lower(dataDF.boro) == \"brooklyn\", 3)\n",
    "                                      .when(f.lower(dataDF.boro) == \"queens\", 4)\n",
    "                                      .otherwise(5))"
   ]
  },
  {
   "attachments": {},
   "cell_type": "markdown",
   "metadata": {},
   "source": [
    "##### Step 3: Cast some of the data columns into their relevant data types"
   ]
  },
  {
   "cell_type": "code",
   "execution_count": 9,
   "metadata": {},
   "outputs": [
    {
     "name": "stderr",
     "output_type": "stream",
     "text": [
      "23/04/28 00:41:50 WARN TaskSetManager: Stage 4 contains a task of very large size (12101 KiB). The maximum recommended task size is 1000 KiB.\n"
     ]
    },
    {
     "name": "stdout",
     "output_type": "stream",
     "text": [
      "+----------+-------+---------+--------+--------+------------+---------------+----------------+--------------+------------------------+-----------------------+-----------------+------------------+----+-----+-----------------------+----------------+-------+------+-------------------+-----+----------+---------------+-----+--------------+---------------------+-------+\n",
      "|bbl       |bin    |boro     |building|camis   |census_tract|community_board|council_district|critical_flag |dba                     |inspection_date        |latitude         |longitude         |nta |phone|record_date            |street          |zipcode|action|cuisine_description|grade|grade_date|inspection_type|score|violation_code|violation_description|boro_id|\n",
      "+----------+-------+---------+--------+--------+------------+---------------+----------------+--------------+------------------------+-----------------------+-----------------+------------------+----+-----+-----------------------+----------------+-------+------+-------------------+-----+----------+---------------+-----+--------------+---------------------+-------+\n",
      "|1008820059|1018150|Manhattan|140     |50122300|006800      |106            |02              |Not Applicable|JACK DIAMONDS           |1900-01-01T00:00:00.000|40.74184859415500|-73.98253373221200|MN21|null |2023-04-27T06:00:14.000|EAST   27 STREET|10016  |null  |null               |null |null      |null           |null |null          |null                 |1      |\n",
      "|1003000018|1003886|Manhattan|84      |50123470|001600      |103            |01              |Not Applicable|Lydig Pizza Pizza Inc   |1900-01-01T00:00:00.000|40.71630687667800|-73.99230192632000|MN27|null |2023-04-27T06:00:14.000|HESTER STREET   |10002  |null  |null               |null |null      |null           |null |null          |null                 |1      |\n",
      "|1004490033|1006336|Manhattan|125     |50118614|003800      |103            |02              |Not Applicable|NUDIBRANCH              |1900-01-01T00:00:00.000|40.72733469117700|-73.98548524124600|MN22|null |2023-04-27T06:00:14.000|1 AVENUE        |10003  |null  |null               |null |null      |null           |null |null          |null                 |1      |\n",
      "|4         |null   |Queens   |13327   |50129407|086900      |407            |20              |Not Applicable|SOFT SWERVE             |1900-01-01T00:00:00.000|40.76053410229000|-73.83391894557700|QN22|null |2023-04-27T06:00:14.000|37th AVENUE     |11354  |null  |null               |null |null      |null           |null |null          |null                 |4      |\n",
      "|1015620003|1050403|Manhattan|1582    |50119835|013600      |108            |05              |Not Applicable|LES GATEAUX DE MARIE    |1900-01-01T00:00:00.000|40.77447469528800|-73.95111011059100|MN32|null |2023-04-27T06:00:14.000|1 AVENUE        |10028  |null  |null               |null |null      |null           |null |null          |null                 |1      |\n",
      "|3019000057|3054773|Brooklyn |868     |50128354|123700      |303            |33              |Not Applicable|null                    |1900-01-01T00:00:00.000|40.69521896256700|-73.95628204324400|BK75|null |2023-04-27T06:00:14.000|BEDFORD AVENUE  |11205  |null  |null               |null |null      |null           |null |null          |null                 |3      |\n",
      "|3057350001|3141676|Brooklyn |6321    |50130808|012000      |310            |38              |Not Applicable|null                    |1900-01-01T00:00:00.000|40.63334293169100|-74.01177409040500|BK34|null |2023-04-27T06:00:14.000|8 AVENUE        |11220  |null  |null               |null |null      |null           |null |null          |null                 |3      |\n",
      "|2030900031|2012546|Bronx    |689     |50132976|038900      |206            |15              |Not Applicable|null                    |1900-01-01T00:00:00.000|40.85432709400600|-73.88503298368300|BX06|null |2023-04-27T06:00:14.000|EAST  187 STREET|10458  |null  |null               |null |null      |null           |null |null          |null                 |2      |\n",
      "|1         |null   |Manhattan|280     |50123675|002100      |101            |01              |Not Applicable|SHAKE SHACK NEW YORK LLC|1900-01-01T00:00:00.000|40.71381970764600|-74.01236912179900|MN24|null |2023-04-27T06:00:14.000|WASHINGTON ST   |10007  |null  |null               |null |null      |null           |null |null          |null                 |1      |\n",
      "|1010390063|1025165|Manhattan|712     |50112565|012700      |104            |03              |Not Applicable|ISTANBUL KEBAB HOUSE    |1900-01-01T00:00:00.000|40.76259160543400|-73.98958916024700|MN15|null |2023-04-27T06:00:14.000|9 AVENUE        |10019  |null  |null               |null |null      |null           |null |null          |null                 |1      |\n",
      "+----------+-------+---------+--------+--------+------------+---------------+----------------+--------------+------------------------+-----------------------+-----------------+------------------+----+-----+-----------------------+----------------+-------+------+-------------------+-----+----------+---------------+-----+--------------+---------------------+-------+\n",
      "only showing top 10 rows\n",
      "\n"
     ]
    }
   ],
   "source": [
    "dataDF = dataDF.withColumn(\"camis\", dataDF[\"camis\"].cast(IntegerType())) \\\n",
    "                .withColumn(\"zipcode\", dataDF[\"zipcode\"].cast(IntegerType())) \\\n",
    "                .withColumn(\"phone\", dataDF[\"phone\"].cast(IntegerType())) \\\n",
    "                .withColumn(\"score\", dataDF[\"score\"].cast(IntegerType())) \\\n",
    "                .withColumn(\"latitude\", dataDF[\"latitude\"].cast(DecimalType(18, 14))) \\\n",
    "                .withColumn(\"longitude\", dataDF[\"longitude\"].cast(DecimalType(18, 14)))\n",
    "\n",
    "dataDF.show(10, truncate = False)\n"
   ]
  },
  {
   "cell_type": "code",
   "execution_count": 10,
   "metadata": {},
   "outputs": [
    {
     "name": "stdout",
     "output_type": "stream",
     "text": [
      "+----------+-------+---------+--------+--------+------------+---------------+----------------+--------------+------------------------+-------------------+-----------------+------------------+----+-----+-------------------+----------------+-------+------+-------------------+-----+----------+---------------+-----+--------------+---------------------+-------+\n",
      "|bbl       |bin    |boro     |building|camis   |census_tract|community_board|council_district|critical_flag |dba                     |inspection_date    |latitude         |longitude         |nta |phone|record_date        |street          |zipcode|action|cuisine_description|grade|grade_date|inspection_type|score|violation_code|violation_description|boro_id|\n",
      "+----------+-------+---------+--------+--------+------------+---------------+----------------+--------------+------------------------+-------------------+-----------------+------------------+----+-----+-------------------+----------------+-------+------+-------------------+-----+----------+---------------+-----+--------------+---------------------+-------+\n",
      "|1008820059|1018150|Manhattan|140     |50122300|006800      |106            |02              |Not Applicable|JACK DIAMONDS           |1900-01-01 00:00:00|40.74184859415500|-73.98253373221200|MN21|null |2023-04-27 06:00:14|EAST   27 STREET|10016  |null  |null               |null |null      |null           |null |null          |null                 |1      |\n",
      "|1003000018|1003886|Manhattan|84      |50123470|001600      |103            |01              |Not Applicable|Lydig Pizza Pizza Inc   |1900-01-01 00:00:00|40.71630687667800|-73.99230192632000|MN27|null |2023-04-27 06:00:14|HESTER STREET   |10002  |null  |null               |null |null      |null           |null |null          |null                 |1      |\n",
      "|1004490033|1006336|Manhattan|125     |50118614|003800      |103            |02              |Not Applicable|NUDIBRANCH              |1900-01-01 00:00:00|40.72733469117700|-73.98548524124600|MN22|null |2023-04-27 06:00:14|1 AVENUE        |10003  |null  |null               |null |null      |null           |null |null          |null                 |1      |\n",
      "|4         |null   |Queens   |13327   |50129407|086900      |407            |20              |Not Applicable|SOFT SWERVE             |1900-01-01 00:00:00|40.76053410229000|-73.83391894557700|QN22|null |2023-04-27 06:00:14|37th AVENUE     |11354  |null  |null               |null |null      |null           |null |null          |null                 |4      |\n",
      "|1015620003|1050403|Manhattan|1582    |50119835|013600      |108            |05              |Not Applicable|LES GATEAUX DE MARIE    |1900-01-01 00:00:00|40.77447469528800|-73.95111011059100|MN32|null |2023-04-27 06:00:14|1 AVENUE        |10028  |null  |null               |null |null      |null           |null |null          |null                 |1      |\n",
      "|3019000057|3054773|Brooklyn |868     |50128354|123700      |303            |33              |Not Applicable|null                    |1900-01-01 00:00:00|40.69521896256700|-73.95628204324400|BK75|null |2023-04-27 06:00:14|BEDFORD AVENUE  |11205  |null  |null               |null |null      |null           |null |null          |null                 |3      |\n",
      "|3057350001|3141676|Brooklyn |6321    |50130808|012000      |310            |38              |Not Applicable|null                    |1900-01-01 00:00:00|40.63334293169100|-74.01177409040500|BK34|null |2023-04-27 06:00:14|8 AVENUE        |11220  |null  |null               |null |null      |null           |null |null          |null                 |3      |\n",
      "|2030900031|2012546|Bronx    |689     |50132976|038900      |206            |15              |Not Applicable|null                    |1900-01-01 00:00:00|40.85432709400600|-73.88503298368300|BX06|null |2023-04-27 06:00:14|EAST  187 STREET|10458  |null  |null               |null |null      |null           |null |null          |null                 |2      |\n",
      "|1         |null   |Manhattan|280     |50123675|002100      |101            |01              |Not Applicable|SHAKE SHACK NEW YORK LLC|1900-01-01 00:00:00|40.71381970764600|-74.01236912179900|MN24|null |2023-04-27 06:00:14|WASHINGTON ST   |10007  |null  |null               |null |null      |null           |null |null          |null                 |1      |\n",
      "|1010390063|1025165|Manhattan|712     |50112565|012700      |104            |03              |Not Applicable|ISTANBUL KEBAB HOUSE    |1900-01-01 00:00:00|40.76259160543400|-73.98958916024700|MN15|null |2023-04-27 06:00:14|9 AVENUE        |10019  |null  |null               |null |null      |null           |null |null          |null                 |1      |\n",
      "+----------+-------+---------+--------+--------+------------+---------------+----------------+--------------+------------------------+-------------------+-----------------+------------------+----+-----+-------------------+----------------+-------+------+-------------------+-----+----------+---------------+-----+--------------+---------------------+-------+\n",
      "only showing top 10 rows\n",
      "\n",
      "\n",
      " Data cleaning completed\n"
     ]
    },
    {
     "name": "stderr",
     "output_type": "stream",
     "text": [
      "23/04/28 00:42:01 WARN TaskSetManager: Stage 5 contains a task of very large size (12101 KiB). The maximum recommended task size is 1000 KiB.\n"
     ]
    }
   ],
   "source": [
    "dataDF = dataDF.withColumn(\"inspection_date\", f.to_timestamp(\"inspection_date\", \"yyyy-MM-dd'T'HH:mm:ss.SSS\")) \\\n",
    "                .withColumn(\"grade_date\", f.to_timestamp(\"grade_date\", \"yyyy-MM-dd'T'HH:mm:ss.SSS\")) \\\n",
    "                .withColumn(\"record_date\", f.to_timestamp(\"record_date\", \"yyyy-MM-dd'T'HH:mm:ss.SSS\"))\n",
    "\n",
    "dataDF.show(10, truncate = False)\n",
    "\n",
    "\n",
    "print(\"\\n Data cleaning completed\")\n"
   ]
  },
  {
   "attachments": {},
   "cell_type": "markdown",
   "metadata": {},
   "source": [
    "##### Step 4: Getting dataset ready for the restaurant_inspection_raw table"
   ]
  },
  {
   "cell_type": "code",
   "execution_count": 11,
   "metadata": {},
   "outputs": [
    {
     "name": "stderr",
     "output_type": "stream",
     "text": [
      "23/04/28 00:42:13 WARN TaskSetManager: Stage 6 contains a task of very large size (12101 KiB). The maximum recommended task size is 1000 KiB.\n",
      "                                                                                \r"
     ]
    },
    {
     "name": "stdout",
     "output_type": "stream",
     "text": [
      "+--------+------------------------+---------+--------+----------------+-------+-----+-------------------+-------------------+------+--------------+---------------------+--------------+-----+-----+----------+-------------------+---------------+-----------------+------------------+---------------+----------------+------------+-------+----------+----+\n",
      "|camis   |dba                     |boro     |building|street          |zipcode|phone|cuisine_description|inspection_date    |action|violation_code|violation_description|critical_flag |score|grade|grade_date|record_date        |inspection_type|latitude         |longitude         |community_board|council_district|census_tract|bin    |bbl       |nta |\n",
      "+--------+------------------------+---------+--------+----------------+-------+-----+-------------------+-------------------+------+--------------+---------------------+--------------+-----+-----+----------+-------------------+---------------+-----------------+------------------+---------------+----------------+------------+-------+----------+----+\n",
      "|50122300|JACK DIAMONDS           |Manhattan|140     |EAST   27 STREET|10016  |null |null               |1900-01-01 00:00:00|null  |null          |null                 |Not Applicable|null |null |null      |2023-04-27 06:00:14|null           |40.74184859415500|-73.98253373221200|106            |02              |006800      |1018150|1008820059|MN21|\n",
      "|50123470|Lydig Pizza Pizza Inc   |Manhattan|84      |HESTER STREET   |10002  |null |null               |1900-01-01 00:00:00|null  |null          |null                 |Not Applicable|null |null |null      |2023-04-27 06:00:14|null           |40.71630687667800|-73.99230192632000|103            |01              |001600      |1003886|1003000018|MN27|\n",
      "|50118614|NUDIBRANCH              |Manhattan|125     |1 AVENUE        |10003  |null |null               |1900-01-01 00:00:00|null  |null          |null                 |Not Applicable|null |null |null      |2023-04-27 06:00:14|null           |40.72733469117700|-73.98548524124600|103            |02              |003800      |1006336|1004490033|MN22|\n",
      "|50129407|SOFT SWERVE             |Queens   |13327   |37th AVENUE     |11354  |null |null               |1900-01-01 00:00:00|null  |null          |null                 |Not Applicable|null |null |null      |2023-04-27 06:00:14|null           |40.76053410229000|-73.83391894557700|407            |20              |086900      |null   |4         |QN22|\n",
      "|50119835|LES GATEAUX DE MARIE    |Manhattan|1582    |1 AVENUE        |10028  |null |null               |1900-01-01 00:00:00|null  |null          |null                 |Not Applicable|null |null |null      |2023-04-27 06:00:14|null           |40.77447469528800|-73.95111011059100|108            |05              |013600      |1050403|1015620003|MN32|\n",
      "|50128354|null                    |Brooklyn |868     |BEDFORD AVENUE  |11205  |null |null               |1900-01-01 00:00:00|null  |null          |null                 |Not Applicable|null |null |null      |2023-04-27 06:00:14|null           |40.69521896256700|-73.95628204324400|303            |33              |123700      |3054773|3019000057|BK75|\n",
      "|50130808|null                    |Brooklyn |6321    |8 AVENUE        |11220  |null |null               |1900-01-01 00:00:00|null  |null          |null                 |Not Applicable|null |null |null      |2023-04-27 06:00:14|null           |40.63334293169100|-74.01177409040500|310            |38              |012000      |3141676|3057350001|BK34|\n",
      "|50132976|null                    |Bronx    |689     |EAST  187 STREET|10458  |null |null               |1900-01-01 00:00:00|null  |null          |null                 |Not Applicable|null |null |null      |2023-04-27 06:00:14|null           |40.85432709400600|-73.88503298368300|206            |15              |038900      |2012546|2030900031|BX06|\n",
      "|50123675|SHAKE SHACK NEW YORK LLC|Manhattan|280     |WASHINGTON ST   |10007  |null |null               |1900-01-01 00:00:00|null  |null          |null                 |Not Applicable|null |null |null      |2023-04-27 06:00:14|null           |40.71381970764600|-74.01236912179900|101            |01              |002100      |null   |1         |MN24|\n",
      "|50112565|ISTANBUL KEBAB HOUSE    |Manhattan|712     |9 AVENUE        |10019  |null |null               |1900-01-01 00:00:00|null  |null          |null                 |Not Applicable|null |null |null      |2023-04-27 06:00:14|null           |40.76259160543400|-73.98958916024700|104            |03              |012700      |1025165|1010390063|MN15|\n",
      "+--------+------------------------+---------+--------+----------------+-------+-----+-------------------+-------------------+------+--------------+---------------------+--------------+-----+-----+----------+-------------------+---------------+-----------------+------------------+---------------+----------------+------------+-------+----------+----+\n",
      "only showing top 10 rows\n",
      "\n",
      "root\n",
      " |-- camis: integer (nullable = true)\n",
      " |-- dba: string (nullable = true)\n",
      " |-- boro: string (nullable = true)\n",
      " |-- building: string (nullable = true)\n",
      " |-- street: string (nullable = true)\n",
      " |-- zipcode: integer (nullable = true)\n",
      " |-- phone: integer (nullable = true)\n",
      " |-- cuisine_description: string (nullable = true)\n",
      " |-- inspection_date: timestamp (nullable = true)\n",
      " |-- action: string (nullable = true)\n",
      " |-- violation_code: string (nullable = true)\n",
      " |-- violation_description: string (nullable = true)\n",
      " |-- critical_flag: string (nullable = true)\n",
      " |-- score: integer (nullable = true)\n",
      " |-- grade: string (nullable = true)\n",
      " |-- grade_date: timestamp (nullable = true)\n",
      " |-- record_date: timestamp (nullable = true)\n",
      " |-- inspection_type: string (nullable = true)\n",
      " |-- latitude: decimal(18,14) (nullable = true)\n",
      " |-- longitude: decimal(18,14) (nullable = true)\n",
      " |-- community_board: string (nullable = true)\n",
      " |-- council_district: string (nullable = true)\n",
      " |-- census_tract: string (nullable = true)\n",
      " |-- bin: string (nullable = true)\n",
      " |-- bbl: string (nullable = true)\n",
      " |-- nta: string (nullable = true)\n",
      "\n",
      "\n",
      " Number of rows in the FinalDF_raw dataframe:\n"
     ]
    },
    {
     "name": "stderr",
     "output_type": "stream",
     "text": [
      "23/04/28 00:42:15 WARN TaskSetManager: Stage 7 contains a task of very large size (12101 KiB). The maximum recommended task size is 1000 KiB.\n",
      "                                                                                \r"
     ]
    },
    {
     "data": {
      "text/plain": [
       "202109"
      ]
     },
     "execution_count": 11,
     "metadata": {},
     "output_type": "execute_result"
    }
   ],
   "source": [
    "FinalDF_raw = dataDF.select([\"camis\", \"dba\", \"boro\", \"building\", \"street\", \"zipcode\", \"phone\", \"cuisine_description\", \"inspection_date\", \"action\", \"violation_code\", \"violation_description\", \"critical_flag\", \"score\", \"grade\" , \"grade_date\", \"record_date\", \"inspection_type\", \"latitude\", \"longitude\", \"community_board\", \"council_district\", \"census_tract\", \"bin\", \"bbl\", \"nta\"])\n",
    "\n",
    "FinalDF_raw.cache()\n",
    "\n",
    "FinalDF_raw.show(10, truncate = False)\n",
    "FinalDF_raw.printSchema()\n",
    "\n",
    "print(\"\\n Number of rows in the FinalDF_raw dataframe:\")\n",
    "FinalDF_raw.count()"
   ]
  },
  {
   "attachments": {},
   "cell_type": "markdown",
   "metadata": {},
   "source": [
    "##### Step 5: Getting dataset ready for the restaurants table"
   ]
  },
  {
   "cell_type": "code",
   "execution_count": 12,
   "metadata": {},
   "outputs": [
    {
     "name": "stderr",
     "output_type": "stream",
     "text": [
      "23/04/28 00:42:38 WARN TaskSetManager: Stage 10 contains a task of very large size (12101 KiB). The maximum recommended task size is 1000 KiB.\n",
      "                                                                                \r"
     ]
    },
    {
     "name": "stdout",
     "output_type": "stream",
     "text": [
      "+--------+-----------------------+----+--------+--------------------------------+-------+-----+-------------------+-----------------+------------------+\n",
      "|camis   |dba                    |boro|building|street                          |zipcode|phone|cuisine_description|latitude         |longitude         |\n",
      "+--------+-----------------------+----+--------+--------------------------------+-------+-----+-------------------+-----------------+------------------+\n",
      "|50106031|KAL                    |4   |3405    |30TH AVE                        |11103  |null |Korean             |40.76570338323900|-73.91883928211500|\n",
      "|50056212|VIA ROMA PIZZA BAR     |3   |445     |COURT STREET                    |11231  |null |Pizza              |40.67803401508100|-73.99797023494800|\n",
      "|50109305|SIN FRONTERAS          |3   |3913    |13 AVENUE                       |11218  |null |null               |40.64048191060400|-73.98642303016000|\n",
      "|50116144|null                   |1   |2374    |ADAM CLAYTON POWELL JR BOULEVARD|null   |null |null               |0E-14            |0E-14             |\n",
      "|50131678|null                   |1   |110     |EAST    7 STREET                |10009  |null |null               |40.72650017235700|-73.98464117541500|\n",
      "|40829150|SOCIETY OF ILLUSTRATORS|1   |128     |EAST   63 STREET                |10065  |null |American           |40.76489011960000|-73.96677368556600|\n",
      "|50018553|TEXAS FRIED CHICKEN    |1   |2144    |8 AVENUE                        |10026  |null |Chicken            |40.80420488639100|-73.95550943343500|\n",
      "|50071991|BURRITO REPUBLIC       |4   |5915    |71ST AVE                        |11385  |null |Mexican            |40.70065063037100|-73.89926337846200|\n",
      "|50016722|NEW KING WOK NY        |3   |4724    |4 AVENUE                        |11220  |null |Chinese            |40.64796994799200|-74.01101991807500|\n",
      "|50133468|Yakar                  |3   |1385    |CONEY ISLAND AVENUE             |11230  |null |Jewish/Kosher      |40.62385495899000|-73.96498896644700|\n",
      "+--------+-----------------------+----+--------+--------------------------------+-------+-----+-------------------+-----------------+------------------+\n",
      "only showing top 10 rows\n",
      "\n",
      "root\n",
      " |-- camis: integer (nullable = true)\n",
      " |-- dba: string (nullable = true)\n",
      " |-- boro: integer (nullable = false)\n",
      " |-- building: string (nullable = true)\n",
      " |-- street: string (nullable = true)\n",
      " |-- zipcode: integer (nullable = true)\n",
      " |-- phone: integer (nullable = true)\n",
      " |-- cuisine_description: string (nullable = true)\n",
      " |-- latitude: decimal(18,14) (nullable = true)\n",
      " |-- longitude: decimal(18,14) (nullable = true)\n",
      "\n",
      "\n",
      " Number of rows in the FinalDF_restaurants dataframe:\n"
     ]
    },
    {
     "name": "stderr",
     "output_type": "stream",
     "text": [
      "                                                                                \r"
     ]
    },
    {
     "data": {
      "text/plain": [
       "28324"
      ]
     },
     "execution_count": 12,
     "metadata": {},
     "output_type": "execute_result"
    }
   ],
   "source": [
    "FinalDF_restaurants = dataDF.select([\"camis\", \"dba\", \"boro_id\", \"building\", \"street\", \"zipcode\", \"phone\", \"cuisine_description\", \"latitude\", \"longitude\"]).distinct()\n",
    "\n",
    "FinalDF_restaurants = FinalDF_restaurants.withColumnRenamed(\"boro_id\",\"boro\")\n",
    "\n",
    "FinalDF_restaurants.cache()\n",
    "\n",
    "FinalDF_restaurants.show(10, truncate = False)\n",
    "FinalDF_restaurants.printSchema()\n",
    "\n",
    "print(\"\\n Number of rows in the FinalDF_restaurants dataframe:\")\n",
    "FinalDF_restaurants.count()\n"
   ]
  },
  {
   "attachments": {},
   "cell_type": "markdown",
   "metadata": {},
   "source": [
    "##### Step 6: Getting dataset ready for the inspection_data table"
   ]
  },
  {
   "cell_type": "code",
   "execution_count": 13,
   "metadata": {},
   "outputs": [
    {
     "name": "stderr",
     "output_type": "stream",
     "text": [
      "23/04/28 00:42:58 WARN TaskSetManager: Stage 17 contains a task of very large size (12101 KiB). The maximum recommended task size is 1000 KiB.\n",
      "                                                                                \r"
     ]
    },
    {
     "name": "stdout",
     "output_type": "stream",
     "text": [
      "+--------+-------------------+---------------------------------------------+-----------------------------------------------+--------------+------------------------------------------------------------------------------------------------------------------------------------------------------------------------------------------------------------------------------------------------------------------------------------------------------------------------------------+--------------+-----+-----+-------------------+---------------+----------------+------------+-------+----------+----+-------------------+\n",
      "|camis   |inspection_date    |inspection_type                              |action                                         |violation_code|violation_description                                                                                                                                                                                                                                                                                                               |critical_flag |score|grade|grade_date         |community_board|council_district|census_tract|bin    |bbl       |nta |record_date        |\n",
      "+--------+-------------------+---------------------------------------------+-----------------------------------------------+--------------+------------------------------------------------------------------------------------------------------------------------------------------------------------------------------------------------------------------------------------------------------------------------------------------------------------------------------------+--------------+-----+-----+-------------------+---------------+----------------+------------+-------+----------+----+-------------------+\n",
      "|50111052|1900-01-01 00:00:00|null                                         |null                                           |null          |null                                                                                                                                                                                                                                                                                                                                |Not Applicable|null |null |null               |209            |18              |005002      |2023865|2037400040|BX55|2023-04-27 06:00:14|\n",
      "|50126865|1900-01-01 00:00:00|null                                         |null                                           |null          |null                                                                                                                                                                                                                                                                                                                                |Not Applicable|null |null |null               |313            |48              |036001      |3245053|3086850004|BK19|2023-04-27 06:00:14|\n",
      "|41718160|2023-04-07 00:00:00|Cycle Inspection / Initial Inspection        |Violations were cited in the following area(s).|02B           |Hot TCS food item not held at or above 140 °F.                                                                                                                                                                                                                                                                                      |Critical      |22   |N    |null               |102            |03              |006500      |1084920|1005257503|MN23|2023-04-27 06:00:11|\n",
      "|50105937|1900-01-01 00:00:00|null                                         |null                                           |null          |null                                                                                                                                                                                                                                                                                                                                |Not Applicable|null |null |null               |407            |20              |086900      |4112225|4049700037|QN22|2023-04-27 06:00:14|\n",
      "|40399422|2021-08-19 00:00:00|Cycle Inspection / Initial Inspection        |Violations were cited in the following area(s).|10C           |Lighting Inadequate                                                                                                                                                                                                                                                                                                                 |Not Critical  |9    |A    |2021-08-19 00:00:00|407            |19              |098700      |4442855|4047170016|QN49|2023-04-27 06:00:11|\n",
      "|50118664|1900-01-01 00:00:00|null                                         |null                                           |null          |null                                                                                                                                                                                                                                                                                                                                |Not Applicable|null |null |null               |501            |49              |012100      |5007679|5002850001|SI35|2023-04-27 06:00:14|\n",
      "|50121432|1900-01-01 00:00:00|null                                         |null                                           |null          |null                                                                                                                                                                                                                                                                                                                                |Not Applicable|null |null |null               |null           |null            |null        |null   |null      |null|2023-04-27 06:00:14|\n",
      "|50065197|2017-06-13 00:00:00|Pre-permit (Operational) / Initial Inspection|Violations were cited in the following area(s).|02G           |Cold food item held above 41º F (smoked fish and reduced oxygen packaged foods above 38 ºF) except during necessary preparation.                                                                                                                                                                                                    |Critical      |71   |null |null               |402            |26              |018300      |4001993|4001680031|QN31|2023-04-27 06:00:11|\n",
      "|50123073|2022-08-19 00:00:00|Pre-permit (Operational) / Re-inspection     |Violations were cited in the following area(s).|05D           |No hand washing facility in or adjacent to toilet room or within 25 feet of a food preparation, food service or ware washing area.  Hand washing facility not accessible, obstructed or used for non-hand washing purposes. No hot and cold running water or water at inadequate pressure. No soap or acceptable hand-drying device.|Critical      |95   |C    |2022-08-19 00:00:00|101            |01              |000700      |1086256|1000420022|MN25|2023-04-27 06:00:11|\n",
      "|50004654|2019-05-31 00:00:00|Cycle Inspection / Re-inspection             |Violations were cited in the following area(s).|02G           |Cold food item held above 41º F (smoked fish and reduced oxygen packaged foods above 38 ºF) except during necessary preparation.                                                                                                                                                                                                    |Critical      |26   |B    |2019-05-31 00:00:00|101            |01              |000900      |1000846|1000290048|MN25|2023-04-27 06:00:11|\n",
      "+--------+-------------------+---------------------------------------------+-----------------------------------------------+--------------+------------------------------------------------------------------------------------------------------------------------------------------------------------------------------------------------------------------------------------------------------------------------------------------------------------------------------------+--------------+-----+-----+-------------------+---------------+----------------+------------+-------+----------+----+-------------------+\n",
      "only showing top 10 rows\n",
      "\n",
      "root\n",
      " |-- camis: integer (nullable = true)\n",
      " |-- inspection_date: timestamp (nullable = true)\n",
      " |-- inspection_type: string (nullable = true)\n",
      " |-- action: string (nullable = true)\n",
      " |-- violation_code: string (nullable = true)\n",
      " |-- violation_description: string (nullable = true)\n",
      " |-- critical_flag: string (nullable = true)\n",
      " |-- score: integer (nullable = true)\n",
      " |-- grade: string (nullable = true)\n",
      " |-- grade_date: timestamp (nullable = true)\n",
      " |-- community_board: string (nullable = true)\n",
      " |-- council_district: string (nullable = true)\n",
      " |-- census_tract: string (nullable = true)\n",
      " |-- bin: string (nullable = true)\n",
      " |-- bbl: string (nullable = true)\n",
      " |-- nta: string (nullable = true)\n",
      " |-- record_date: timestamp (nullable = true)\n",
      "\n",
      "\n",
      " Number of rows in the FinalDF_inspections dataframe:\n"
     ]
    },
    {
     "name": "stderr",
     "output_type": "stream",
     "text": [
      "                                                                                \r"
     ]
    },
    {
     "data": {
      "text/plain": [
       "202109"
      ]
     },
     "execution_count": 13,
     "metadata": {},
     "output_type": "execute_result"
    }
   ],
   "source": [
    "FinalDF_inspections= dataDF.select([\"camis\", \"inspection_date\", \"inspection_type\", \"action\", \"violation_code\", \"violation_description\", \"critical_flag\", \"score\", \"grade\" , \"grade_date\", \"community_board\", \"council_district\", \"census_tract\", \"bin\", \"bbl\", \"nta\", \"record_date\"]).distinct()\n",
    "\n",
    "FinalDF_inspections.cache()\n",
    "\n",
    "FinalDF_inspections.show(10, truncate = False)\n",
    "FinalDF_inspections.printSchema()\n",
    "\n",
    "print(\"\\n Number of rows in the FinalDF_inspections dataframe:\")\n",
    "FinalDF_inspections.count()\n",
    "\n",
    "\n"
   ]
  },
  {
   "attachments": {},
   "cell_type": "markdown",
   "metadata": {},
   "source": [
    "### Data Writing : Write data into postgresql database tables using Pyspark dataframes"
   ]
  },
  {
   "cell_type": "code",
   "execution_count": 14,
   "metadata": {},
   "outputs": [
    {
     "name": "stdout",
     "output_type": "stream",
     "text": [
      "\n",
      " Data write to postgresql begins\n"
     ]
    }
   ],
   "source": [
    "url = \"jdbc:postgresql://localhost:5432/postgres_db\"\n",
    "properties = {\"user\": \"postgres\", \"password\": \"123\", \"driver\": \"org.postgresql.Driver\"}\n",
    "\n",
    "print(\"\\n Data write to postgresql begins\")\n"
   ]
  },
  {
   "cell_type": "code",
   "execution_count": 16,
   "metadata": {},
   "outputs": [
    {
     "name": "stderr",
     "output_type": "stream",
     "text": [
      "23/04/28 00:44:12 WARN TaskSetManager: Stage 24 contains a task of very large size (12101 KiB). The maximum recommended task size is 1000 KiB.\n",
      "[Stage 26:===================================================>   (94 + 6) / 100]\r"
     ]
    },
    {
     "name": "stdout",
     "output_type": "stream",
     "text": [
      "\n",
      " restaurant_inspection_data raw table updated.\n"
     ]
    },
    {
     "name": "stderr",
     "output_type": "stream",
     "text": [
      "                                                                                \r"
     ]
    }
   ],
   "source": [
    "# Increase the number of partitions\n",
    "FinalDF_raw = FinalDF_raw.repartition(100)\n",
    "\n",
    "# Use a more efficient partitioning scheme\n",
    "FinalDF_raw.write.option(\"batchsize\", \"2000\").jdbc(url=url, table=\"restaurant_inspection_raw\", mode=\"append\", properties=properties)\n",
    "\n",
    "print(\"\\n restaurant_inspection_data raw table updated.\")"
   ]
  },
  {
   "cell_type": "code",
   "execution_count": 17,
   "metadata": {},
   "outputs": [
    {
     "name": "stderr",
     "output_type": "stream",
     "text": [
      "                                                                                \r"
     ]
    },
    {
     "name": "stdout",
     "output_type": "stream",
     "text": [
      "\n",
      " inspection_data table updated.\n"
     ]
    }
   ],
   "source": [
    "# Increase the number of partitions\n",
    "FinalDF_inspections = FinalDF_inspections.repartition(100)\n",
    "\n",
    "# Use a more efficient partitioning scheme\n",
    "FinalDF_inspections.write.option(\"batchsize\", \"2000\").jdbc(url=url, table=\"inspection_data\", mode=\"overwrite\", properties=properties)\n",
    "\n",
    "print(\"\\n inspection_data table updated.\")"
   ]
  },
  {
   "cell_type": "code",
   "execution_count": 18,
   "metadata": {},
   "outputs": [
    {
     "name": "stderr",
     "output_type": "stream",
     "text": [
      "[Stage 36:================================================>      (88 + 8) / 100]\r"
     ]
    },
    {
     "name": "stdout",
     "output_type": "stream",
     "text": [
      "\n",
      " Restaurant table updated.\n",
      "\n",
      " Job Finishes\n"
     ]
    },
    {
     "name": "stderr",
     "output_type": "stream",
     "text": [
      "                                                                                \r"
     ]
    }
   ],
   "source": [
    "\n",
    "# Increase the number of partitions\n",
    "FinalDF_restaurants = FinalDF_restaurants.repartition(100)\n",
    "\n",
    "# Use a more efficient partitioning scheme\n",
    "FinalDF_restaurants.write.option(\"batchsize\", \"2000\").jdbc(url=url, table=\"restaurants\", mode=\"overwrite\", properties=properties)\n",
    "\n",
    "print(\"\\n Restaurant table updated.\")\n",
    "\n",
    "print('\\n Job Finishes')"
   ]
  },
  {
   "cell_type": "code",
   "execution_count": null,
   "metadata": {},
   "outputs": [],
   "source": []
  }
 ],
 "metadata": {
  "kernelspec": {
   "display_name": ".venv",
   "language": "python",
   "name": "python3"
  },
  "language_info": {
   "codemirror_mode": {
    "name": "ipython",
    "version": 3
   },
   "file_extension": ".py",
   "mimetype": "text/x-python",
   "name": "python",
   "nbconvert_exporter": "python",
   "pygments_lexer": "ipython3",
   "version": "3.10.11"
  },
  "orig_nbformat": 4
 },
 "nbformat": 4,
 "nbformat_minor": 2
}
